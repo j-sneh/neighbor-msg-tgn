{
 "cells": [
  {
   "cell_type": "code",
   "execution_count": 15,
   "id": "c2cb1b6a-4d47-41d7-b62c-e7194bfaad2e",
   "metadata": {},
   "outputs": [],
   "source": [
    "import pickle\n",
    "import numpy as np\n",
    "from IPython.display import display, Image"
   ]
  },
  {
   "cell_type": "code",
   "execution_count": 3,
   "id": "4eabc7ba-87e6-4ad8-97b7-b6568f4152ee",
   "metadata": {},
   "outputs": [],
   "source": [
    "def read_pickle_file(file_path):\n",
    "    try:\n",
    "        with open(file_path, 'rb') as file:\n",
    "            data = pickle.load(file)\n",
    "            return data\n",
    "    except Exception as e:\n",
    "        print(f\"Error reading pickle file: {e}\")\n"
   ]
  },
  {
   "cell_type": "code",
   "execution_count": 31,
   "id": "fcdd9193",
   "metadata": {},
   "outputs": [],
   "source": [
    "def read_results(prefix, n):\n",
    "    dirichlet_energies = []\n",
    "    transductive_ap = []\n",
    "    inductive_ap = []\n",
    "    epoch_times = []\n",
    "    for i in range(n):\n",
    "        if i == 0:\n",
    "            result = read_pickle_file(f\"trials/{prefix}.pkl\")\n",
    "        else:\n",
    "            result = read_pickle_file(f\"trials/{prefix}_{i}.pkl\")\n",
    "        # display(result)\n",
    "        # print(f\"Results for {prefix}_{i}\")\n",
    "        # print(f\"{result.keys()}\")\n",
    "\n",
    "        dirichlet_energies.append(result['dirichlet_energy'])\n",
    "        transductive_ap.append(result['test_ap'])\n",
    "        inductive_ap.append(result['new_node_test_ap'])\n",
    "    dirichlet_energies = np.array(dirichlet_energies)\n",
    "    transductive_ap = np.array(transductive_ap)\n",
    "    inductive_ap = np.array(inductive_ap)\n",
    "\n",
    "    print(f\"{prefix} Dirichlet Energy: {dirichlet_energies.mean()} ± {dirichlet_energies.std()}\")\n",
    "    print(f\"{prefix} Transductive AP: {transductive_ap.mean()} ± {transductive_ap.std()}\")\n",
    "    print(f\"{prefix} Inductive AP: {inductive_ap.mean()} ± {inductive_ap.std()}\")\n",
    "    \n",
    "    \n",
    "        \n",
    "        # display(Image(filename=f\"results/{prefix}_{i}_embeddings_tsne.png\"))\n",
    "    \n",
    "    "
   ]
  },
  {
   "cell_type": "code",
   "execution_count": 32,
   "id": "9e297b64-9f97-41bb-a07e-a05b4b5e94ad",
   "metadata": {},
   "outputs": [
    {
     "name": "stdout",
     "output_type": "stream",
     "text": [
      "tgn-attn-neighbormsg Dirichlet Energy: 110.25946735981942 ± 33.58952035009892\n",
      "tgn-attn-neighbormsg Transductive AP: 0.983250192312925 ± 0.0011523205714624014\n",
      "tgn-attn-neighbormsg Inductive AP: 0.977444371918294 ± 0.0011268014245185039\n"
     ]
    }
   ],
   "source": [
    "read_results(\"tgn-attn-neighbormsg\", 5)"
   ]
  },
  {
   "cell_type": "code",
   "execution_count": 33,
   "id": "478f0236",
   "metadata": {},
   "outputs": [
    {
     "name": "stdout",
     "output_type": "stream",
     "text": [
      "tgn-id-neighbormsg Dirichlet Energy: 58.037403166741 ± 11.638379290371148\n",
      "tgn-id-neighbormsg Transductive AP: 0.9593836221713191 ± 0.0024638906724289865\n",
      "tgn-id-neighbormsg Inductive AP: 0.9388544168682571 ± 0.003546975225747836\n"
     ]
    }
   ],
   "source": [
    "read_results(\"tgn-id-neighbormsg\", 5)"
   ]
  },
  {
   "cell_type": "code",
   "execution_count": 72,
   "id": "6cb26ef2",
   "metadata": {},
   "outputs": [
    {
     "name": "stdout",
     "output_type": "stream",
     "text": [
      "tgn-baseline Dirichlet Energy: 69.92356223788504 ± 4.167143433957416\n",
      "tgn-baseline Transductive AP: 0.9837632885720395 ± 0.0015660159128938562\n",
      "tgn-baseline Inductive AP: 0.976656299627502 ± 0.0018111012552658456\n"
     ]
    }
   ],
   "source": [
    "read_results(\"tgn-baseline\",5)"
   ]
  },
  {
   "cell_type": "code",
   "execution_count": 73,
   "id": "ba479b05",
   "metadata": {},
   "outputs": [
    {
     "name": "stdout",
     "output_type": "stream",
     "text": [
      "tgn-id Dirichlet Energy: 37.5592210501578 ± 1.405690978860072\n",
      "tgn-id Transductive AP: 0.9556056585001281 ± 0.0025549466720715583\n",
      "tgn-id Inductive AP: 0.9324865707256335 ± 0.002993925568583751\n"
     ]
    }
   ],
   "source": [
    "read_results(\"tgn-id\", 5)"
   ]
  },
  {
   "cell_type": "code",
   "execution_count": 75,
   "id": "4be5b3f5",
   "metadata": {},
   "outputs": [
    {
     "data": {
      "text/plain": [
       "array([-2.29418613e-02,  8.48660767e-01, -6.63006485e-01,  5.39787173e-01,\n",
       "       -9.85846102e-01,  3.64358425e-01, -1.90661773e-01,  3.62362355e-01,\n",
       "        6.12215519e-01, -1.95475042e-01, -7.64604151e-01,  1.04498804e-01,\n",
       "       -9.24418807e-01,  2.10933059e-01, -2.59352833e-01,  9.70945120e-01,\n",
       "        2.73001224e-01, -9.94341314e-01, -9.32681024e-01,  5.07695854e-01,\n",
       "        3.05478811e-01,  6.57579303e-01, -5.61878204e-01,  6.05679631e-01,\n",
       "       -8.66321445e-01, -3.31729919e-01,  5.14619648e-01,  7.23335803e-01,\n",
       "        4.57681596e-01, -3.74651372e-01,  7.82001853e-01,  9.00077105e-01,\n",
       "        7.82691419e-01,  9.62415934e-02, -7.51264811e-01, -5.63046217e-01,\n",
       "       -2.07966179e-01,  9.22526717e-01,  9.28002954e-01, -8.80107701e-01,\n",
       "       -9.49045658e-01,  4.52875197e-01, -6.76529408e-02, -8.37448657e-01,\n",
       "        9.55107212e-01, -7.95126617e-01, -6.92997873e-01,  3.86288851e-01,\n",
       "       -1.28266990e-01,  4.21153009e-01,  2.29335666e-01, -2.17609823e-01,\n",
       "        7.50323057e-01,  6.75508618e-01,  5.06956816e-01, -6.41594350e-01,\n",
       "        8.78677607e-01, -5.55082798e-01, -9.71945286e-01, -6.63175642e-01,\n",
       "        9.72402513e-01,  5.49895346e-01, -6.85190558e-01,  8.73417795e-01,\n",
       "        5.60737848e-01, -6.47958159e-01,  6.04800642e-01,  9.75137711e-01,\n",
       "       -9.74397659e-01, -6.20694995e-01, -9.83523607e-01,  8.39992464e-01,\n",
       "       -9.57213044e-01, -9.25390720e-02, -6.82466269e-01, -7.52192080e-01,\n",
       "       -9.16558444e-01, -8.90836120e-01,  3.70271355e-01, -9.17427778e-01,\n",
       "        3.58478755e-01, -7.42202640e-01,  3.40857774e-01,  8.39120090e-01,\n",
       "       -1.58129826e-01, -8.81133318e-01,  8.87773752e-01,  4.88846153e-01,\n",
       "        9.75905120e-01, -8.16014230e-01, -8.10589492e-01,  7.78428078e-01,\n",
       "        7.64682710e-01, -3.85610551e-01,  3.74310553e-01,  9.75583196e-01,\n",
       "       -9.99667048e-01, -4.81751651e-01,  3.26078646e-02, -5.41430235e-01,\n",
       "       -1.64249122e-01, -8.11284781e-01, -3.42785895e-01,  4.91364211e-01,\n",
       "       -8.29833746e-01, -6.20993376e-01, -9.02034640e-01,  9.23865497e-01,\n",
       "       -8.81462276e-01,  3.12448204e-01,  8.02261904e-02,  8.61038327e-01,\n",
       "       -7.63562202e-01, -9.19246554e-01, -8.03670704e-01, -1.50136530e-01,\n",
       "        8.21511984e-01,  6.10241294e-01, -6.80649877e-02, -6.54722512e-01,\n",
       "        9.48709249e-01, -4.94774699e-01, -1.21121496e-01, -3.61652046e-01,\n",
       "       -6.45565748e-01, -8.41551602e-01,  6.92482591e-01, -6.52275145e-01,\n",
       "       -3.71920973e-01,  7.20885515e-01,  1.25309959e-01, -2.05555260e-02,\n",
       "        4.31661665e-01,  8.19567919e-01,  6.72908068e-01,  6.93426371e-01,\n",
       "       -9.60174739e-01,  1.57270566e-01, -5.06201386e-01,  9.85887468e-01,\n",
       "       -7.39999235e-01,  3.15691859e-01, -2.96582222e-01, -5.53987920e-01,\n",
       "        7.17020869e-01, -7.39351749e-01,  8.74966383e-04,  4.23901021e-01,\n",
       "        7.08239019e-01, -8.91631782e-01, -7.14115143e-01,  8.35759401e-01,\n",
       "       -8.00215244e-01,  4.99528497e-01, -4.45837617e-01,  9.87825274e-01,\n",
       "        3.02340686e-02, -9.60650027e-01,  9.47159231e-01, -1.58418655e-01,\n",
       "        7.98331916e-01,  2.23468661e-01, -8.17454040e-01,  7.55260885e-01,\n",
       "        8.57134223e-01,  3.30556333e-02, -8.98665309e-01,  1.24752164e-01,\n",
       "        7.36108243e-01, -6.62008077e-02, -7.02265978e-01,  2.77772695e-01],\n",
       "      dtype=float32)"
      ]
     },
     "execution_count": 75,
     "metadata": {},
     "output_type": "execute_result"
    }
   ],
   "source": [
    "embeddings = read_pickle_file(\"embeddings/tgn-id_0_embeddings.pkl\")\n",
    "np.isclose(embeddings[17], np.zeros(embeddings[17].shape))\n",
    "embeddings[17]"
   ]
  },
  {
   "cell_type": "code",
   "execution_count": null,
   "id": "e1fb5b34",
   "metadata": {},
   "outputs": [],
   "source": []
  }
 ],
 "metadata": {
  "kernelspec": {
   "display_name": "Python 3",
   "language": "python",
   "name": "python3"
  },
  "language_info": {
   "codemirror_mode": {
    "name": "ipython",
    "version": 3
   },
   "file_extension": ".py",
   "mimetype": "text/x-python",
   "name": "python",
   "nbconvert_exporter": "python",
   "pygments_lexer": "ipython3",
   "version": "3.9.7"
  }
 },
 "nbformat": 4,
 "nbformat_minor": 5
}
