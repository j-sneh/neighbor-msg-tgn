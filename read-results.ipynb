{
 "cells": [
  {
   "cell_type": "code",
   "execution_count": 4,
   "id": "c2cb1b6a-4d47-41d7-b62c-e7194bfaad2e",
   "metadata": {},
   "outputs": [],
   "source": [
    "import pickle\n",
    "import numpy as np\n",
    "from IPython.display import display, Image\n",
    "from utils.data_processing import get_data, compute_time_statistics"
   ]
  },
  {
   "cell_type": "code",
   "execution_count": 5,
   "id": "4eabc7ba-87e6-4ad8-97b7-b6568f4152ee",
   "metadata": {},
   "outputs": [],
   "source": [
    "def read_pickle_file(file_path):\n",
    "    try:\n",
    "        with open(file_path, 'rb') as file:\n",
    "            data = pickle.load(file)\n",
    "            return data\n",
    "    except Exception as e:\n",
    "        print(f\"Error reading pickle file: {e}\")\n"
   ]
  },
  {
   "cell_type": "code",
   "execution_count": 9,
   "id": "fcdd9193",
   "metadata": {},
   "outputs": [],
   "source": [
    "def read_results(prefix, n):\n",
    "    dirichlet_energies = []\n",
    "    transductive_ap = []\n",
    "    inductive_ap = []\n",
    "    epoch_times = []\n",
    "    for i in range(n):\n",
    "        if i == 0:\n",
    "            result = read_pickle_file(f\"trials/{prefix}.pkl\")\n",
    "        else:\n",
    "            result = read_pickle_file(f\"trials/{prefix}_{i}.pkl\")\n",
    "        # display(result)\n",
    "        # print(f\"Results for {prefix}_{i}\")\n",
    "        # print(f\"{result.keys()}\")\n",
    "\n",
    "        dirichlet_energies.append(result['dirichlet_energy'])\n",
    "        transductive_ap.append(result['test_ap'])\n",
    "        inductive_ap.append(result['new_node_test_ap'])\n",
    "    dirichlet_energies = np.array(dirichlet_energies)\n",
    "    transductive_ap = np.array(transductive_ap)\n",
    "    inductive_ap = np.array(inductive_ap)\n",
    "\n",
    "    print(f\"{prefix} Dirichlet Energy: {dirichlet_energies.mean()} ± {dirichlet_energies.std()}\")\n",
    "    print(f\"{prefix} Transductive AP: {transductive_ap.mean()} ± {transductive_ap.std()}\")\n",
    "    print(f\"{prefix} Inductive AP: {inductive_ap.mean()} ± {inductive_ap.std()}\")\n",
    "    \n",
    "    \n",
    "        \n",
    "        # display(Image(filename=f\"results/{prefix}_{i}_embeddings_tsne.png\"))\n",
    "    \n",
    "    "
   ]
  },
  {
   "cell_type": "code",
   "execution_count": 10,
   "id": "9e297b64-9f97-41bb-a07e-a05b4b5e94ad",
   "metadata": {},
   "outputs": [
    {
     "name": "stdout",
     "output_type": "stream",
     "text": [
      "[162.21696229  79.47131442 125.80214674 115.12334694  68.68356642]\n",
      "tgn-attn-neighbormsg Dirichlet Energy: 110.25946735981942 ± 33.58952035009892\n",
      "tgn-attn-neighbormsg Transductive AP: 0.983250192312925 ± 0.0011523205714624014\n",
      "tgn-attn-neighbormsg Inductive AP: 0.977444371918294 ± 0.0011268014245185039\n"
     ]
    }
   ],
   "source": [
    "read_results(\"tgn-attn-neighbormsg\", 5)"
   ]
  },
  {
   "cell_type": "code",
   "execution_count": 83,
   "id": "478f0236",
   "metadata": {},
   "outputs": [
    {
     "name": "stdout",
     "output_type": "stream",
     "text": [
      "tgn-id-neighbormsg Dirichlet Energy: 58.037403166741 ± 11.638379290371148\n",
      "tgn-id-neighbormsg Transductive AP: 0.9593836221713191 ± 0.0024638906724289865\n",
      "tgn-id-neighbormsg Inductive AP: 0.9388544168682571 ± 0.003546975225747836\n"
     ]
    }
   ],
   "source": [
    "read_results(\"tgn-id-neighbormsg\", 5)"
   ]
  },
  {
   "cell_type": "code",
   "execution_count": 7,
   "id": "6cb26ef2",
   "metadata": {},
   "outputs": [
    {
     "name": "stdout",
     "output_type": "stream",
     "text": [
      "tgn-baseline Dirichlet Energy: 69.92356223788504 ± 4.167143433957416\n",
      "tgn-baseline Transductive AP: 0.9837632885720395 ± 0.0015660159128938562\n",
      "tgn-baseline Inductive AP: 0.976656299627502 ± 0.0018111012552658456\n"
     ]
    }
   ],
   "source": [
    "read_results(\"tgn-baseline\",5)"
   ]
  },
  {
   "cell_type": "code",
   "execution_count": 8,
   "id": "ba479b05",
   "metadata": {},
   "outputs": [
    {
     "name": "stdout",
     "output_type": "stream",
     "text": [
      "tgn-id Dirichlet Energy: 37.5592210501578 ± 1.405690978860072\n",
      "tgn-id Transductive AP: 0.9556056585001281 ± 0.0025549466720715583\n",
      "tgn-id Inductive AP: 0.9324865707256335 ± 0.002993925568583751\n"
     ]
    }
   ],
   "source": [
    "read_results(\"tgn-id\", 5)"
   ]
  },
  {
   "cell_type": "markdown",
   "id": "46fd78cf",
   "metadata": {},
   "source": []
  }
 ],
 "metadata": {
  "kernelspec": {
   "display_name": "Python 3",
   "language": "python",
   "name": "python3"
  },
  "language_info": {
   "codemirror_mode": {
    "name": "ipython",
    "version": 3
   },
   "file_extension": ".py",
   "mimetype": "text/x-python",
   "name": "python",
   "nbconvert_exporter": "python",
   "pygments_lexer": "ipython3",
   "version": "3.9.7"
  }
 },
 "nbformat": 4,
 "nbformat_minor": 5
}
